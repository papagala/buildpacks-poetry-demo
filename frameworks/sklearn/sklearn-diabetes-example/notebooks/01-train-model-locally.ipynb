{
 "cells": [
  {
   "cell_type": "markdown",
   "id": "9c3054f8",
   "metadata": {},
   "source": [
    "# Setup\n",
    "\n",
    "Before you run this notebook you should make sure that you use the appropriate kernel.\n",
    "\n",
    "You can create the kernel using the repo's conda environment.\n",
    "\n",
    "For instructions on how to setup your conda/poetry environment and create your kernel, check the documentation in  our [wiki](https://code.roche.com/one-d-ai/early-adopters/user-guide-wiki/-/wikis/How-To/sHPC-setup)."
   ]
  },
  {
   "cell_type": "markdown",
   "id": "112ad153",
   "metadata": {},
   "source": [
    "# Import the library\n",
    "\n",
    "When you run the notebook inside the repo you import the code like a package.\n",
    "\n",
    "The only file we will need from this package is the `functions.py`."
   ]
  },
  {
   "cell_type": "code",
   "execution_count": 1,
   "id": "3a050401",
   "metadata": {},
   "outputs": [],
   "source": [
    "from sklearn_diabetes_example import functions"
   ]
  },
  {
   "cell_type": "markdown",
   "id": "48b9e035",
   "metadata": {},
   "source": [
    "# Train the model\n",
    "\n",
    "## Define the input parameters\n",
    "\n",
    "- the path of the train input data _(you can use any of the files provided inside the `data` folder)_\n",
    "- the path where the model output with be saved _(this should be a path that does not exist already, otherwise the code will override an existing path and replace another model)_\n",
    "\n",
    "In order to properly define the path, we also import the `Path` package here, but feel free to use your own way to define the file paths if you want. "
   ]
  },
  {
   "cell_type": "code",
   "execution_count": 2,
   "id": "26f74544",
   "metadata": {},
   "outputs": [],
   "source": [
    "# We use the Path package here to properly define paths\n",
    "from pathlib import Path\n",
    "repo_path = Path().absolute().parent.absolute()"
   ]
  },
  {
   "cell_type": "code",
   "execution_count": 3,
   "id": "227200e6",
   "metadata": {},
   "outputs": [],
   "source": [
    "# Choose the name of your model\n",
    "my_model_name = \"sklearn-diabetes-model-new-version.joblib\""
   ]
  },
  {
   "cell_type": "code",
   "execution_count": 4,
   "id": "d1c95e1f",
   "metadata": {},
   "outputs": [],
   "source": [
    "# Set up the paths that the function accepts as input\n",
    "training_set_path = Path(repo_path, \"data\")\n",
    "output_model_path = Path(repo_path, \"model\", my_model_name)"
   ]
  },
  {
   "cell_type": "markdown",
   "id": "4488ae83",
   "metadata": {},
   "source": [
    "## Run the train_model() function\n",
    "\n",
    "If you want to make changes in the way the funtion works:\n",
    "\n",
    "- go to the `functions.py` file in the repo\n",
    "- change the code inside the `train_model()` function\n",
    "- restart the kernel in this notebook\n",
    "- run the notebook and the function will run with your changes"
   ]
  },
  {
   "cell_type": "code",
   "execution_count": 5,
   "id": "d892eb4d",
   "metadata": {},
   "outputs": [
    {
     "name": "stdout",
     "output_type": "stream",
     "text": [
      "Linear model coefs:  [   1.19997199 -233.50009961  519.89061727  304.47222327 -726.41560392\n",
      "  415.78324592   82.99787136  203.15998985  667.91424959  105.28299311]\n",
      "Alpha values for Ridge model:  [0.0001     0.00039811 0.00158489 0.00630957 0.02511886 0.1       ]\n",
      "Scores:  [0.7201620872332906, 0.7196548049101903, 0.7178453402676406, 0.7128274710534698, 0.7035182294760471, 0.6838578174345143]\n",
      "Best Alpha:  0.0001\n",
      "Ridge model coefs:  [   1.24029665 -233.44108731  519.95888412  304.41505873 -717.6212677\n",
      "  408.82031947   79.05912592  202.03295583  664.58871481  105.34554582]\n",
      "Alpha values for Lasso model:  [0.0001     0.00039811 0.00158489 0.00630957 0.02511886 0.1       ]\n",
      "Scores:  [0.7202265744916254, 0.7198911974439465, 0.718488734564149, 0.7138336880141429, 0.7062509822470242, 0.6868281585868137]\n",
      "Best Alpha:  0.0001\n",
      "Lasso model coefs:  [   1.18818746 -233.41558978  519.94788291  304.40285114 -719.34770423\n",
      "  410.35330424   79.60733918  201.89171373  665.37591048  105.2915302 ]\n",
      "Cross validation (10-fold) R2 scores\n",
      "      Linear     Ridge     Lasso\n",
      "0  0.527252  0.527048  0.527150\n",
      "1  0.256625  0.256911  0.256788\n",
      "2  0.382784  0.383255  0.383062\n",
      "3  0.603489  0.603282  0.603323\n",
      "4  0.224625  0.224879  0.224773\n",
      "5  0.580884  0.580878  0.580890\n",
      "6  0.539651  0.540001  0.539850\n",
      "7  0.462842  0.462935  0.462916\n",
      "8  0.412881  0.412656  0.412685\n",
      "9  0.600465  0.600325  0.600356\n",
      "Best model is chosen:  Linear\n",
      "The mean square error of the best model:  1633.8127329779609\n",
      "The explained variance score of the best model (1 is perfect prediction):  0.7203375771831679\n"
     ]
    }
   ],
   "source": [
    "functions.train_model(training_set_path, output_model_path)"
   ]
  },
  {
   "cell_type": "markdown",
   "id": "8e733fe2",
   "metadata": {},
   "source": [
    "# Finished!\n",
    "\n",
    "Now your model has been trained and is saved inside the path you provided in the funtions parameters.\n",
    "\n",
    "To see how you can use the model, go to the `notebooks/use-local-model.ipynb` notebook."
   ]
  },
  {
   "cell_type": "code",
   "execution_count": null,
   "id": "80311876",
   "metadata": {},
   "outputs": [],
   "source": []
  }
 ],
 "metadata": {
  "kernelspec": {
   "display_name": "Python 3 (ipykernel)",
   "language": "python",
   "name": "python3"
  },
  "language_info": {
   "codemirror_mode": {
    "name": "ipython",
    "version": 3
   },
   "file_extension": ".py",
   "mimetype": "text/x-python",
   "name": "python",
   "nbconvert_exporter": "python",
   "pygments_lexer": "ipython3",
   "version": "3.8.13"
  }
 },
 "nbformat": 4,
 "nbformat_minor": 5
}
