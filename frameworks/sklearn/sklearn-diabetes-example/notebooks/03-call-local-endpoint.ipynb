{
 "cells": [
  {
   "attachments": {},
   "cell_type": "markdown",
   "id": "65e575a4",
   "metadata": {},
   "source": [
    "# Locally spin up an endpoint"
   ]
  },
  {
   "cell_type": "markdown",
   "id": "1c106511",
   "metadata": {},
   "source": [
    "### Usage of this notebook\n",
    "\n",
    "#### Requirements\n",
    "\n",
    "- [pack](https://buildpacks.io/docs/tools/pack/) - on macOS you can install it with [brew](https://brew.sh/), using: `brew install buildpacks/tap/pack`\n",
    "- [poetry](https://python-poetry.org/docs/) - you can usually install it with: `curl -sSL https://install.python-poetry.org | python3 -`\n",
    "- [Docker](https://docs.docker.com/engine/install/) - depending on your platform, simply follow [this link](https://docs.docker.com/engine/install/) to install Docker. You could then run the following command to see what Docker containers are running: `docker ps`\n",
    "\n",
    "#### Spin up an endpoint locally\n",
    "\n",
    "1. Go to the right directory. From your root folder, run:\n",
    "\n",
    "    ```bash\n",
    "    cd frameworks/sklearn/sklearn-diabetes-example\n",
    "    ```\n",
    "\n",
    "2. Export the `requirements.txt` by running:\n",
    "\n",
    "    ```bash\n",
    "    poetry export --without-hashes --without dev -f requirements.txt -o requirements.txt\n",
    "    ```\n",
    "\n",
    "3. Build the docker image. From your terminal run:\n",
    "\n",
    "    ```bash\n",
    "    image_name=registry.code.roche.com/one-d-ai/early-adopters/automated-docker-images/diabetes:1.0.0\n",
    "    pack build --builder=heroku/buildpacks:20 --creation-time now $image_name\n",
    "    ```\n",
    "\n",
    "4. Run the Docker image locally:\n",
    "\n",
    "    ```bash\n",
    "    docker run -ePORT=8080 -p8080:8080 registry.code.roche.com/one-d-ai/early-adopters/automated-docker-images/diabetes:1.0.0\n",
    "    ```\n",
    "\n",
    "5. Continue below with calling your local endpoint."
   ]
  },
  {
   "attachments": {},
   "cell_type": "markdown",
   "id": "0d0b072d",
   "metadata": {},
   "source": [
    "### Call your local endpoint"
   ]
  },
  {
   "cell_type": "code",
   "execution_count": 1,
   "id": "7bb46c59",
   "metadata": {},
   "outputs": [
    {
     "name": "stdout",
     "output_type": "stream",
     "text": [
      "Model is returning predictions 🎉, your predictions: \n",
      " {'predictions': [204.1345201689273, 68.85081454758824, 176.75870679720228, 165.04151595431023]}\n"
     ]
    }
   ],
   "source": [
    "import requests\n",
    "import json\n",
    "\n",
    "url = \"http://localhost:8080/v1/models/sklearn-diabetes:predict\"\n",
    "\n",
    "payload = json.dumps({\n",
    "  \"instances\": [\n",
    "    [\n",
    "      0.038075906433423026,\n",
    "      0.05068011873981862,\n",
    "      0.061696206518683294,\n",
    "      0.0218723855140367,\n",
    "      -0.04422349842444599,\n",
    "      -0.03482076283769895,\n",
    "      -0.04340084565202491,\n",
    "      -0.002592261998183278,\n",
    "      0.019907486170462722,\n",
    "      -0.01764612515980379\n",
    "    ],\n",
    "    [\n",
    "      -0.0018820165277906047,\n",
    "      -0.044641636506989144,\n",
    "      -0.051474061238800654,\n",
    "      -0.02632752814785296,\n",
    "      -0.008448724111216851,\n",
    "      -0.019163339748222204,\n",
    "      0.07441156407875721,\n",
    "      -0.03949338287409329,\n",
    "      -0.0683315470939731,\n",
    "      -0.092204049626824\n",
    "    ],\n",
    "    [\n",
    "      0.08529890629667548,\n",
    "      0.05068011873981862,\n",
    "      0.04445121333659049,\n",
    "      -0.00567042229275739,\n",
    "      -0.04559945128264711,\n",
    "      -0.03419446591411989,\n",
    "      -0.03235593223976409,\n",
    "      -0.002592261998183278,\n",
    "      0.002861309289833047,\n",
    "      -0.025930338989472702\n",
    "    ],\n",
    "    [\n",
    "      -0.0890629393522567,\n",
    "      -0.044641636506989144,\n",
    "      -0.011595014505211082,\n",
    "      -0.03665608107540074,\n",
    "      0.01219056876179996,\n",
    "      0.02499059336410222,\n",
    "      -0.036037570043851025,\n",
    "      0.03430885887772673,\n",
    "      0.022687744966501246,\n",
    "      -0.009361911330134878\n",
    "    ]\n",
    "  ]\n",
    "})\n",
    "headers = {\n",
    "  'Content-Type': 'application/json'\n",
    "}\n",
    "\n",
    "response = requests.request(\"POST\", url, headers=headers, data=payload)\n",
    "\n",
    "if response.status_code == 200:\n",
    "    print(f'Model is returning predictions 🎉, your predictions: \\n {response.json()}')\n",
    "else:\n",
    "    print('Something is not right 😔')"
   ]
  }
 ],
 "metadata": {
  "kernelspec": {
   "display_name": "Python 3 (ipykernel)",
   "language": "python",
   "name": "python3"
  },
  "language_info": {
   "codemirror_mode": {
    "name": "ipython",
    "version": 3
   },
   "file_extension": ".py",
   "mimetype": "text/x-python",
   "name": "python",
   "nbconvert_exporter": "python",
   "pygments_lexer": "ipython3",
   "version": "3.8.13"
  }
 },
 "nbformat": 4,
 "nbformat_minor": 5
}
